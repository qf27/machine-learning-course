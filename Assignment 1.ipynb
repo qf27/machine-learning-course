{
 "cells": [
  {
   "cell_type": "markdown",
   "metadata": {},
   "source": [
    "# Assignment 1 - Probability, Linear Algebra, Programming, and Git\n",
    "\n",
    "## *YOUR FULL NAME HERE*\n",
    "Netid:  *Your netid here*"
   ]
  },
  {
   "cell_type": "markdown",
   "metadata": {},
   "source": [
    "# Probability and Statistics Theory"
   ]
  },
  {
   "cell_type": "markdown",
   "metadata": {
    "collapsed": true
   },
   "source": [
    "## 1\n",
    "Let $f(x) = \\begin{cases}\n",
    "                0           & x < 0  \\\\\n",
    "                \\alpha x^2  & 0 \\leq x \\leq 2 \\\\\n",
    "                0           & 2 < x\n",
    "            \\end{cases}$\n",
    "            \n",
    "For what value of $\\alpha$ is $f(x)$ a valid probability density function?\n",
    "\n",
    "*Note: for all assignments, write out all equations and math for all assignments using markdown and [LaTeX](https://tobi.oetiker.ch/lshort/lshort.pdf) and show all work*"
   ]
  },
  {
   "cell_type": "markdown",
   "metadata": {},
   "source": [
    "**ANSWER**\n",
    "\n",
    "since f(x) is a valid probability density function, it means that $$\\int_0^2\\alpha x^2=1$$,$$\\int_0^2\\alpha x^2=\\frac{8}{3}\\alpha=1$$,$$\\alpha=\\frac{3}{8}$$.\n"
   ]
  },
  {
   "cell_type": "markdown",
   "metadata": {},
   "source": [
    "## 2\n",
    "What is the cumulative distribution function (CDF) that corresponds to the following probability distribution function? Please state the value of the CDF for all possible values of $x$.\n",
    "\n",
    "$f(x) = \\begin{cases}\n",
    "    \\frac{1}{3} & 0 < x < 3 \\\\\n",
    "    0           & \\text{otherwise}\n",
    "    \\end{cases}$"
   ]
  },
  {
   "cell_type": "markdown",
   "metadata": {},
   "source": [
    "**ANSWER**\n",
    "\n",
    "F(x) is CDF,$$\\frac{dF}{dx}=f(x)$$,\n",
    "\n",
    "$$F(x)= \\begin{cases}\n",
    "    0            &x \\leq 0 \\\\\n",
    "    \\frac{1}{3}x & 0 < x < 3 \\\\\n",
    "    1            & 3 \\leq x\n",
    "    \\end{cases}$$"
   ]
  },
  {
   "cell_type": "markdown",
   "metadata": {},
   "source": [
    "## 3\n",
    "For the probability distribution function for the random variable $X$,\n",
    "\n",
    "$f(x) = \\begin{cases}\n",
    "    \\frac{1}{3} & 0 < x < 3 \\\\\n",
    "    0           & \\text{otherwise}\n",
    "    \\end{cases}$\n",
    "    \n",
    "what is the (a) expected value and (b) variance of $X$. *Show all work*."
   ]
  },
  {
   "cell_type": "markdown",
   "metadata": {},
   "source": [
    "**ANSWER**\n",
    "\n",
    "(a) Expected value:\n",
    "\n",
    "$$E(X)=\\int xf(x)=\\int_0^3\\frac{1}{3}x=\\frac{3}{2}$$\n",
    "\n",
    "(b) Variance:\n",
    "\n",
    "$$Var(X)=E(X^2)-E(X)^2=\\int_0^3\\frac{1}{3}x^2-(\\frac{3}{2})^2=\\frac{3}{4}$$"
   ]
  },
  {
   "cell_type": "markdown",
   "metadata": {},
   "source": [
    "## 4\n",
    "Consider the following table of data that provides the values of a discrete data vector $\\mathbf{x}$ of samples from the random variable $X$, where each entry in $\\mathbf{x}$ is given as $x_i$.\n",
    "\n",
    "*Table 1. Dataset N=5 observations*\n",
    "\n",
    "|        | $x_0$ | $x_1$ | $x_2$ | $x_3$ | $x_4$ |\n",
    "|------  |-------|-------|-------|-------|-------|\n",
    "|$\\textbf{x}$| 2     | 3     | 10    | -1    | -1    |\n",
    "\n",
    "What is the (a) mean, (b) variance, and the  of the data? \n",
    "\n",
    "*Show all work. Your answer should include the definition of mean, median, and variance in the context of discrete data.*"
   ]
  },
  {
   "cell_type": "markdown",
   "metadata": {},
   "source": [
    "**ANSWER**\n",
    "\n",
    "(a) Mean\n",
    "\n",
    "$$mean=\\frac{sum}{num}$$\n",
    "\n",
    "$$Mean=\\frac{x_0+x_1+x_2+x_3+x_4}{5}$$\n",
    "\n",
    "$$=2.6$$\n",
    "\n",
    "\n",
    "(b) Variance\n",
    "\n",
    "in discrete data,mean is equal to expect value$\\mu$\n",
    "\n",
    "$$Var(x)=\\frac{1}{N}(\\sum_{i=1}^Nx_i^2-N\\mu^2)$$\n",
    "\n",
    "$$=16.24$$\n",
    "\n",
    "median is the middle value of a set of data\n",
    "\n",
    "$$Median=2$$"
   ]
  },
  {
   "cell_type": "markdown",
   "metadata": {},
   "source": [
    "## 5\n",
    "Review of counting from probability theory. \n",
    "\n",
    "(a) How many different 7-place licence plates are possible if the first 3 places only contain letters and te last 4 only contain numbers?\n",
    "\n",
    "(b) How many different batting orders are possible for a baseball team with 9 players?\n",
    "\n",
    "(c) How many batting orders of 5 players are possible for a team with 9 players total?\n",
    "\n",
    "(d) Let's assume this class has 26 students and we want to form project teams. How many unique teams of 3 are possible?\n",
    "\n",
    "*Hint: For each problem, determine if order matters, and if it should be calculated with or without replacement.*"
   ]
  },
  {
   "cell_type": "markdown",
   "metadata": {},
   "source": [
    "**ANSWER**\n"
   ]
  },
  {
   "cell_type": "code",
   "execution_count": 35,
   "metadata": {},
   "outputs": [
    {
     "name": "stdout",
     "output_type": "stream",
     "text": [
      "(a)175760000\n",
      "(b)362880.0\n",
      "(c)15120.0\n",
      "(d)2977546171600000.0\n"
     ]
    }
   ],
   "source": [
    "from scipy.special import comb, perm\n",
    "A=26*26*26*10*10*10*10;\n",
    "B=perm(9,9);\n",
    "C=perm(9,5);\n",
    "D=comb(26,2)*comb(24,3)*comb(21,3)*comb(18,3)*comb(15,3)*comb(12,3)*comb(9,3)*comb(6,3)/perm(8,8);\n",
    "print('(a){}'.format(A));\n",
    "print('(b){}'.format(B));\n",
    "print('(c){}'.format(C));\n",
    "print('(d){}'.format(D));"
   ]
  },
  {
   "cell_type": "markdown",
   "metadata": {},
   "source": [
    "# Linear Algebra"
   ]
  },
  {
   "cell_type": "markdown",
   "metadata": {},
   "source": [
    "## 6\n",
    "**Matrix manipulations and multiplication**. Machine learning involves working with many matrices, so this exercise will provide you with the opportunity to practice those skills.\n",
    "\n",
    "Let\n",
    "$\\mathbf{A} =  \\begin{bmatrix}\n",
    "1 & 2 & 3 \\\\\n",
    "2 & 4 & 5 \\\\\n",
    "3 & 5 & 6 \n",
    "\\end{bmatrix}$, $\\mathbf{b} =  \\begin{bmatrix}\n",
    "-1  \\\\\n",
    "3  \\\\\n",
    "8  \n",
    "\\end{bmatrix}$, $\\mathbf{c} =  \\begin{bmatrix}\n",
    "4  \\\\\n",
    "-3  \\\\\n",
    "6  \n",
    "\\end{bmatrix}$, and $\\mathbf{I} =  \\begin{bmatrix}\n",
    "1 & 0 & 0 \\\\\n",
    "0 & 1 & 0 \\\\\n",
    "0 & 0 & 1 \n",
    "\\end{bmatrix}$\n",
    "\n",
    "Compute the following or indicate that it cannot be computed:\n",
    "\n",
    "1. $\\mathbf{A}\\mathbf{A}$\n",
    "2. $\\mathbf{A}\\mathbf{A}^T$\n",
    "3. $\\mathbf{A}\\mathbf{b}$\n",
    "4. $\\mathbf{A}\\mathbf{b}^T$\n",
    "5. $\\mathbf{b}\\mathbf{A}$\n",
    "6. $\\mathbf{b}^T\\mathbf{A}$\n",
    "7. $\\mathbf{b}\\mathbf{b}$\n",
    "8. $\\mathbf{b}^T\\mathbf{b}$\n",
    "9. $\\mathbf{b}\\mathbf{b}^T$\n",
    "10. $\\mathbf{b} + \\mathbf{c}^T$\n",
    "11. $\\mathbf{b}^T\\mathbf{b}^T$\n",
    "12. $\\mathbf{A}^{-1}\\mathbf{b}$\n",
    "13. $\\mathbf{A}\\circ\\mathbf{A}$\n",
    "14. $\\mathbf{b}\\circ\\mathbf{c}$\n",
    "\n",
    "*Note: The element-wise (or Hadamard) product is the product of each element in one matrix with the corresponding element in another matrix, and is represented by the symbol \"$\\circ$\".*"
   ]
  },
  {
   "cell_type": "markdown",
   "metadata": {},
   "source": [
    "**ANSWER**\n",
    "\n"
   ]
  },
  {
   "cell_type": "code",
   "execution_count": 26,
   "metadata": {},
   "outputs": [
    {
     "name": "stdout",
     "output_type": "stream",
     "text": [
      "1.\n",
      "[[14 25 31]\n",
      " [25 45 56]\n",
      " [31 56 70]]\n",
      "2.\n",
      "[[14 25 31]\n",
      " [25 45 56]\n",
      " [31 56 70]]\n",
      "3.\n",
      "[[29]\n",
      " [50]\n",
      " [60]]\n",
      "6.\n",
      "[[29 50 60]]\n",
      "8.\n",
      "[[74]]\n",
      "9.\n",
      "[[ 1 -3 -8]\n",
      " [-3  9 24]\n",
      " [-8 24 64]]\n",
      "10.\n",
      "[[ 3 -4  5]\n",
      " [ 7  0  9]\n",
      " [12  5 14]]\n",
      "12.\n",
      "[[ 6.]\n",
      " [ 4.]\n",
      " [-5.]]\n",
      "13.\n",
      "[[ 1  4  9]\n",
      " [ 4 16 25]\n",
      " [ 9 25 36]]\n",
      "14.\n",
      "[[-4]\n",
      " [-9]\n",
      " [48]]\n",
      "And others can not be computed\n"
     ]
    }
   ],
   "source": [
    "#Numerically initialize variables for the analysis\n",
    "from numpy import *;\n",
    "A=array([[1,2,3],[2,4,5],[3,5,6]]);\n",
    "A=mat(A);\n",
    "b=array([[-1],[3],[8]]);\n",
    "b=mat(b);\n",
    "c=array([[4],[-3],[6]]);\n",
    "c=mat(c);\n",
    "I=mat(eye(2,2));\n",
    "ans1=A*A;\n",
    "ans2=A*(A.T);\n",
    "ans3=A*b;\n",
    "#ans4=A*(b.T);\n",
    "#ans5=b*A;\n",
    "ans6=b.T*A;\n",
    "#ans7=b*b;\n",
    "ans8=b.T*b;\n",
    "ans9=b*b.T;\n",
    "ans10=b+c.T;\n",
    "#ans11=b.T*b.T;\n",
    "ans12=A.I*b;\n",
    "ans13=array(A)*array(A);\n",
    "ans14=array(b)*array(c);\n",
    "print('1.\\n{}'.format(ans1));\n",
    "print('2.\\n{}'.format(ans2));\n",
    "print('3.\\n{}'.format(ans3));\n",
    "#print('4.\\n{}'.format(ans4));\n",
    "#print('5.\\n{}'.format(ans5));\n",
    "print('6.\\n{}'.format(ans6));\n",
    "#print('7.\\n{}'.format(ans7));\n",
    "print('8.\\n{}'.format(ans8));\n",
    "print('9.\\n{}'.format(ans9));\n",
    "print('10.\\n{}'.format(ans10));\n",
    "#print('11.\\n{}'.format(ans11));\n",
    "print('12.\\n{}'.format(ans12));\n",
    "print('13.\\n{}'.format(ans13));\n",
    "print('14.\\n{}'.format(ans14));\n",
    "print('And others can not be computed');"
   ]
  },
  {
   "cell_type": "markdown",
   "metadata": {},
   "source": [
    "## 6\n",
    "**Eigenvectors and eigenvalues**. Eigenvectors and eigenvalues are useful for some machine learning algorithms, but the concepts take time to solidly grasp. For an intuitive review of these concepts, explore this [interactive website at Setosa.io](http://setosa.io/ev/eigenvectors-and-eigenvalues/). Also, the series of linear algebra videos by Grant Sanderson of 3Brown1Blue are excellent and can be viewed on youtube [here](https://www.youtube.com/playlist?list=PLZHQObOWTQDPD3MizzM2xVFitgF8hE_ab).\n",
    "\n",
    "1. Calculate the eigenvalues and corresponding eigenvectors of matrix $\\mathbf{A}$ above, from the last question.\n",
    "2. Choose one of the eigenvector/eigenvalue pairs, $\\mathbf{v}$ and $\\lambda$, and show that $\\mathbf{A} \\mathbf{v} = \\lambda \\mathbf{v}$. Also show that this relationship extends to higher orders: $\\mathbf{A} \\mathbf{A} \\mathbf{v} = \\lambda^2 \\mathbf{v}$\n",
    "3. Show that the eigenvectors are orthogonal to one another (e.g. their inner product is zero). This is true for real, symmetric matrices."
   ]
  },
  {
   "cell_type": "markdown",
   "metadata": {},
   "source": [
    "**ANSWER**\n",
    "\n"
   ]
  },
  {
   "cell_type": "code",
   "execution_count": 42,
   "metadata": {},
   "outputs": [
    {
     "name": "stdout",
     "output_type": "stream",
     "text": [
      "1.\n",
      "eigenvalue =\n",
      "[ 11.34481428  -0.51572947   0.17091519]\n",
      "eigenvector =\n",
      "[[-0.32798528 -0.73697623  0.59100905]\n",
      " [-0.59100905 -0.32798528 -0.73697623]\n",
      " [-0.73697623  0.59100905  0.32798528]]\n"
     ]
    }
   ],
   "source": [
    "import numpy as np\n",
    "A=np.array([[1,2,3],[2,4,5],[3,5,6]]);\n",
    "a,b=np.linalg.eig(A);\n",
    "print('1.');\n",
    "print('eigenvalue =\\n{}'.format(a));\n",
    "print('eigenvector =\\n{}'.format(b));"
   ]
  },
  {
   "cell_type": "code",
   "execution_count": 35,
   "metadata": {},
   "outputs": [
    {
     "name": "stdout",
     "output_type": "stream",
     "text": [
      "Av=\n",
      "[[-3.72093206  0.38008036  0.10101242]\n",
      " [-6.70488789  0.16915167 -0.12596043]\n",
      " [-8.36085845 -0.30480078  0.05605767]]\n",
      "lamta*v=\n",
      "[[-3.72093206  0.38008036  0.10101242]\n",
      " [-6.70488789  0.16915167 -0.12596043]\n",
      " [-8.36085845 -0.30480078  0.05605767]]\n",
      "AAv=\n",
      "[[ -4.22132832e+01  -1.96018644e-01   1.72645574e-02]\n",
      " [ -7.60657080e+01  -8.72365034e-02  -2.15285509e-02]\n",
      " [ -9.48523864e+01   1.57194747e-01   9.58110651e-03]]\n",
      "lamta*lamta*v=\n",
      "[[ -4.22132832e+01  -1.96018644e-01   1.72645574e-02]\n",
      " [ -7.60657080e+01  -8.72365034e-02  -2.15285509e-02]\n",
      " [ -9.48523864e+01   1.57194747e-01   9.58110651e-03]]\n",
      "inner product=\n",
      "[[ 0.10757434  0.43555962 -0.43555962]\n",
      " [ 0.43555962  0.10757434 -0.43555962]\n",
      " [-0.43555962 -0.43555962  0.10757434]]\n"
     ]
    }
   ],
   "source": [
    "import numpy as np\n",
    "A=np.array([[1,2,3],[2,4,5],[3,5,6]]);\n",
    "a,b=np.linalg.eig(A);\n",
    "A=np.mat(A);\n",
    "newA=A*b;\n",
    "newV=a*b;\n",
    "secA=(A*A)*b;\n",
    "secV=(a*a)*b;\n",
    "inner=b.T*b\n",
    "print('Av=\\n{}'.format(newA));\n",
    "print('lamta*v=\\n{}'.format(newV));\n",
    "print('AAv=\\n{}'.format(secA));\n",
    "print('lamta*lamta*v=\\n{}'.format(secV));\n",
    "print('inner product=\\n{}'.format(inner))"
   ]
  },
  {
   "cell_type": "markdown",
   "metadata": {},
   "source": [
    "As we can see this is a real, symmetric matrix,thus the vectors are all orthogonal"
   ]
  },
  {
   "cell_type": "markdown",
   "metadata": {},
   "source": [
    "# Numerical Programming"
   ]
  },
  {
   "cell_type": "markdown",
   "metadata": {},
   "source": [
    "## 7\n",
    "Speed comparison between vectorized and non-vectorized code. Begin by creating an array of 10 million random numbers using the numpy random.randn module. Compute the sum of the squares first in a for loop, then using Numpy's `dot` module. Time how long it takes to compute each and report the results and report the output. How many times faster is the vectorized code than the for loop approach?\n",
    "\n",
    "*Note: all code should be well commented, properly formatted, and your answers should be output using the `print()` function as follows (where the # represents your answers, to a reasonable precision):\n",
    "\n",
    "`Time [sec] (non-vectorized): ######`\n",
    "\n",
    "`Time [sec] (vectorized):     ######`\n",
    "\n",
    "`The vectorized code is ##### times faster than the vectorized code`"
   ]
  },
  {
   "cell_type": "markdown",
   "metadata": {},
   "source": [
    "**ANSWER**"
   ]
  },
  {
   "cell_type": "code",
   "execution_count": 9,
   "metadata": {},
   "outputs": [
    {
     "name": "stdout",
     "output_type": "stream",
     "text": [
      "sum(non-vectorized)10006513.034807578\n",
      "\n",
      "sum(vectorized)10006513.034806892\n",
      "\n",
      "Time [sec] (non-vectorized):6.071281909942627\n",
      "\n",
      "Time [sec] (vectorized):0.005973100662231445\n",
      "\n",
      "The vectorized code is 1016.4372330659003 times faster than the vectorized code\n"
     ]
    }
   ],
   "source": [
    "import numpy as np\n",
    "import time\n",
    "\n",
    "# Generate the random samples\n",
    "sample=np.random.randn(10000000);\n",
    "# Compute the sum of squares the non-vectorized way (using a for loop)\n",
    "sum_loop=0;\n",
    "start_loop=time.time();\n",
    "for i in range(len(sample)):\n",
    "    sum_loop=sum_loop+sample[i]*sample[i]\n",
    "end_loop=time.time();\n",
    "Time_loop=end_loop-start_loop;\n",
    "\n",
    "# Compute the sum of squares the vectorized way (using numpy)\n",
    "sum_numpy=0;\n",
    "start_numpy=time.time();\n",
    "sum_numpy=np.dot(sample,sample);\n",
    "end_numpy=time.time();\n",
    "Time_numpy=end_numpy-start_numpy;\n",
    "# Print the results\n",
    "print('sum(non-vectorized){}\\n'.format(sum_loop))\n",
    "print('sum(vectorized){}\\n'.format(sum_numpy))\n",
    "print('Time [sec] (non-vectorized):{}\\n'.format(Time_loop))\n",
    "print('Time [sec] (vectorized):{}\\n'.format(Time_numpy))\n",
    "print('The vectorized code is {} times faster than the vectorized code'.format(Time_loop/Time_numpy))"
   ]
  },
  {
   "cell_type": "markdown",
   "metadata": {},
   "source": [
    "## 8\n",
    "One popular Agile development framework is Scrum (a paradigm recommended for data science projects). It emphasizes the continual evolution of code for projects, becoming progressively better, but starting with a quickly developed minimum viable product. This often means that code written early on is not optimized, and that's a good thing - it's best to get it to work first before optimizing. Imagine that you wrote the following code during a sprint towards getting an end-to-end system working. Vectorize the following code and show the difference in speed between the current implementation and a vectorized version.\n",
    "\n",
    "The function below computes the function $f(x,y) = x^2 - 2 y^2$ and determines whether this quantity is above or below a given threshold, `thresh=0`. This is done for $x,y \\in \\{-4,4\\}$, with 2,000 samples in each direction.\n",
    "\n",
    "(a) Vectorize this code and demonstrate (as in the last exercise) the speed increase through vectorization and (b) plot the resulting data - both the function $f(x,y)$ and the thresholded output - using [`imshow`](https://matplotlib.org/api/_as_gen/matplotlib.pyplot.imshow.html?highlight=matplotlib%20pyplot%20imshow#matplotlib.pyplot.imshow) from `matplotlib`.\n",
    "\n",
    "*Hint: look at the `numpy` [`meshgrid`](https://docs.scipy.org/doc/numpy-1.13.0/reference/generated/numpy.meshgrid.html) documentation*"
   ]
  },
  {
   "cell_type": "code",
   "execution_count": 16,
   "metadata": {},
   "outputs": [
    {
     "name": "stdout",
     "output_type": "stream",
     "text": [
      "Time [sec] (non-vectorized):9.735312461853027\n",
      "\n",
      "Time [sec] (vectorized):0.06351685523986816\n",
      "\n",
      "The vectorized code is 153.27132341625097 times faster than the vectorized code\n",
      "1414213\n",
      "\n",
      "1414213\n",
      "\n"
     ]
    },
    {
     "data": {
      "image/png": "[encoded data removed]",
      "text/plain": [
       "<matplotlib.figure.Figure at 0x16f7125a9b0>"
      ]
     },
     "metadata": {},
     "output_type": "display_data"
    }
   ],
   "source": [
    "import numpy as np\n",
    "import time\n",
    "import matplotlib.pyplot as plt\n",
    "\n",
    "# Initialize variables for this exerise\n",
    "points=np.arange(-4,4,8/2000)\n",
    "Sample_x,Sample_y=np.meshgrid(points,points)\n",
    "Matrix = [[0 for i in range(2000)] for i in range(2000)]\n",
    "Q=0;\n",
    "# Nonvectorized implementation\n",
    "Start_non=time.time()\n",
    "for m in range(2000):\n",
    "    for k in range(2000):\n",
    "        Matrix[k][m]= Sample_x[1][m]*Sample_x[1][m]-2*Sample_y[k][1]*Sample_y[k][1]\n",
    "        if Matrix[k][m]>0:\n",
    "            Q=Q+1\n",
    "End_non=time.time()            \n",
    "Time_non=End_non-Start_non\n",
    "# Vectorized implementation\n",
    "Start_ver=time.time()\n",
    "answer=Sample_x**2-2*Sample_y**2\n",
    "End_ver=time.time()\n",
    "Time_ver=End_ver-Start_ver\n",
    "Q2=np.sum(answer>0)\n",
    "# Print the time for each and the speed increase\n",
    "print('Time [sec] (non-vectorized):{}\\n'.format(Time_non))\n",
    "print('Time [sec] (vectorized):{}\\n'.format(Time_ver))\n",
    "print('The vectorized code is {} times faster than the vectorized code'.format(Time_non/Time_ver))\n",
    "print('{}\\n'.format(Q))\n",
    "print('{}\\n'.format(Q2))\n",
    "# Plot the result\n",
    "fig=plt.figure()\n",
    "ax=fig.add_subplot(211)\n",
    "ax.imshow(Matrix)\n",
    "ax=fig.add_subplot(212)\n",
    "ax.imshow(answer)\n",
    "plt.show()"
   ]
  },
  {
   "cell_type": "markdown",
   "metadata": {},
   "source": [
    "## 9\n",
    "This exercise will walk through some basic numerical programming exercises.\n",
    "1. Synthesize $n=10^4$ normally distributed data points with mean $\\mu=2$ and a standard deviation of $\\sigma=1$. Call these observations from a random variable $X$, and call the vector of observations that you generate, $\\textbf{x}$.\n",
    "2. Calculate the mean and standard deviation of $\\textbf{x}$ to validate (1) and provide the result to a precision of four significant figures.\n",
    "3. Plot a histogram of the data in $\\textbf{x}$ with 30 bins\n",
    "4. What is the 90th percentile of $\\textbf{x}$? The 90th percentile is the value below which 90% of observations can be found.\n",
    "5. What is the 99th percentile of $\\textbf{x}$?\n",
    "6. Now synthesize $n=10^4$ normally distributed data points with mean $\\mu=0$ and a standard deviation of $\\sigma=3$. Call these observations from a random variable $Y$, and call the vector of observations that you generate, $\\textbf{y}$.\n",
    "7. Plot the histogram of the data in $\\textbf{y}$ on a (new) plot with the histogram of $\\textbf{x}$, so that both histograms can be seen and compared.\n",
    "8. Using the observations from $\\textbf{x}$ and $\\textbf{y}$, estimate $E[XY]$"
   ]
  },
  {
   "cell_type": "markdown",
   "metadata": {},
   "source": [
    "**ANSWER**"
   ]
  },
  {
   "cell_type": "code",
   "execution_count": 3,
   "metadata": {},
   "outputs": [
    {
     "name": "stdout",
     "output_type": "stream",
     "text": [
      "Mean=1.9909,Standard Dev=0.9950\n"
     ]
    },
    {
     "data": {
      "image/png": "[encoded data removed]",
      "text/plain": [
       "<matplotlib.figure.Figure at 0x1e6fadf1278>"
      ]
     },
     "metadata": {},
     "output_type": "display_data"
    },
    {
     "name": "stdout",
     "output_type": "stream",
     "text": [
      "percent 90=3.2759691185107296\n",
      "percent 99=4.28814025358474\n"
     ]
    },
    {
     "data": {
      "image/png": "[encoded data removed]",
      "text/plain": [
       "<matplotlib.figure.Figure at 0x1e6fc144128>"
      ]
     },
     "metadata": {},
     "output_type": "display_data"
    },
    {
     "name": "stdout",
     "output_type": "stream",
     "text": [
      "E(XY)=0\n"
     ]
    }
   ],
   "source": [
    "import numpy as np\n",
    "import matplotlib.pyplot as plt\n",
    "# 1\n",
    "sampleNo=10000\n",
    "mu=2\n",
    "sigma=1\n",
    "X=np.random.normal(mu,sigma,sampleNo)\n",
    "\n",
    "# 2\n",
    "mean=np.mean(X)\n",
    "stand_dev=np.std(X)\n",
    "print('Mean=%.4f,Standard Dev=%.4f'%(mean,stand_dev))\n",
    "# 3\n",
    "fig=plt.figure()\n",
    "ax=fig.add_subplot(211)\n",
    "plt.hist(X,30,normed=1)\n",
    "plt.show()\n",
    "# 4\n",
    "Per_90=np.percentile(X,90)\n",
    "print('percent 90={}'.format(Per_90))\n",
    "# 5\n",
    "Per_99=np.percentile(X,99)\n",
    "print('percent 99={}'.format(Per_99))\n",
    "# 6\n",
    "mu1=0\n",
    "sigma1=3\n",
    "Y=np.random.normal(mu1,sigma1,sampleNo)\n",
    "\n",
    "# 7\n",
    "ax=fig.add_subplot(212)\n",
    "plt.hist(X,30,normed=1)\n",
    "plt.hist(Y,30,normed=1)\n",
    "plt.show()\n",
    "# 8\n",
    "#X,Y are stat independent,E(XY)=E(X)E(Y)=0*2=0\n",
    "print('E(XY)=0')"
   ]
  },
  {
   "cell_type": "markdown",
   "metadata": {},
   "source": [
    "## 10\n",
    "Estimate the integral of the function $f(x)$ on the interval $0\\leq x < 2.5$ assuming we only know the following points from $f$:\n",
    "\n",
    "*Table 1. Dataset containing n=5 observations*\n",
    "\n",
    "| $x_i$ | 0.0 | 0.5 | 1.0 | 1.5 | 2.0 |\n",
    "|-|-|-|-|-|-|\n",
    "| $y_i$ | 6 | 7 | 8 | 4 | 1 |\n"
   ]
  },
  {
   "cell_type": "markdown",
   "metadata": {},
   "source": [
    "**ANSWER**\n",
    "\n"
   ]
  },
  {
   "cell_type": "code",
   "execution_count": 9,
   "metadata": {},
   "outputs": [
    {
     "name": "stdout",
     "output_type": "stream",
     "text": [
      "        3         2\n",
      "0.6667 x - 5.714 x + 6.262 x + 5.843\n",
      "integral=10.92410714285714\n"
     ]
    },
    {
     "data": {
      "image/png": "[encoded data removed]",
      "text/plain": [
       "<matplotlib.figure.Figure at 0x192e0c6b7b8>"
      ]
     },
     "metadata": {},
     "output_type": "display_data"
    }
   ],
   "source": [
    "import numpy as np\n",
    "from scipy.integrate import quad\n",
    "import matplotlib.pyplot as plt\n",
    "\n",
    "#定义x、y散点坐标\n",
    "num1=[0,0.5,1,1.5,2]\n",
    "x=np.array(num1)\n",
    "num = [6,7,8,4,1]\n",
    "y = np.array(num)\n",
    "f1 = np.polyfit(x, y, 3)\n",
    "p1 = np.poly1d(f1)\n",
    "print(p1)\n",
    "yvals = p1(x)  #拟合y值\n",
    "ans,e=quad(p1,0,2.5)\n",
    "print('integral={}'.format(ans))\n",
    "#绘图\n",
    "plot1 = plt.plot(x, y, 's',label='original values')\n",
    "plot2 = plt.plot(x, yvals, 'r',label='polyfit values')\n",
    "plt.xlabel('x')\n",
    "plt.ylabel('y')\n",
    "plt.legend(loc=4) \n",
    "plt.title('polyfitting')\n",
    "plt.show()\n",
    "plt.savefig('test.png')"
   ]
  },
  {
   "cell_type": "markdown",
   "metadata": {
    "collapsed": true
   },
   "source": [
    "# Version Control via Git"
   ]
  },
  {
   "cell_type": "markdown",
   "metadata": {},
   "source": [
    "## 11\n",
    "Complete the [Atlassian Git tutorial](https://www.atlassian.com/git/tutorials/what-is-version-control), specifically the following sections. Try each concept that's presented. For this tutorial, instead of using BitBucket, use Github. Create a github account here if you don't already have one: https://github.com/\n",
    "1. [What is version control](https://www.atlassian.com/git/tutorials/what-is-version-control)\n",
    "2. [What is Git](https://www.atlassian.com/git/tutorials/what-is-git)\n",
    "3. [Install Git](https://www.atlassian.com/git/tutorials/install-git)\n",
    "4. [Setting up a repository](https://www.atlassian.com/git/tutorials/install-git)\n",
    "5. [Saving changes](https://www.atlassian.com/git/tutorials/saving-changes)\n",
    "6. [Inspecting a repository](https://www.atlassian.com/git/tutorials/inspecting-a-repository)\n",
    "7. [Undoing changes](https://www.atlassian.com/git/tutorials/undoing-changes)\n",
    "8. [Rewriting history](https://www.atlassian.com/git/tutorials/rewriting-history)\n",
    "9. [Syncing](https://www.atlassian.com/git/tutorials/syncing)\n",
    "10. [Making a pull request](https://www.atlassian.com/git/tutorials/making-a-pull-request)\n",
    "11. [Using branches](https://www.atlassian.com/git/tutorials/using-branches)\n",
    "12. [Comparing workflows](https://www.atlassian.com/git/tutorials/comparing-workflows)\n",
    "\n",
    "For your answer, affirm that you either completed the tutorial or have previous experience with all of the concepts above. Do this by typing your name below and selecting the situation that applies from the two options in brackets."
   ]
  },
  {
   "cell_type": "markdown",
   "metadata": {},
   "source": [
    "**ANSWER**\n",
    "\n",
    "*I, [**QIAN FANG**], affirm that I have [**completed the above tutorial**]*"
   ]
  },
  {
   "cell_type": "markdown",
   "metadata": {},
   "source": [
    "## 12\n",
    "Using Github to create a static HTML website:\n",
    "1. Create a branch in your `machine-learning-course` repo called \"gh-pages\" and checkout that branch (this will provide an example of how to create a simple static website using [Github Pages](https://pages.github.com/))\n",
    "2. Create a file called \"index.html\" with the contents \"Hello World\" and add, commit, and push it to that branch.\n",
    "3. Submit the following: (a) a link to your github repository and (b) a link to your new \"Hello World\" website. The latter should be at the address https://[USERNAME].github.io/ECE590-assignment0 (where [USERNAME] is your github username)."
   ]
  },
  {
   "cell_type": "markdown",
   "metadata": {},
   "source": [
    "**ANSWER**\n",
    "\n",
    "https://github.com/qf27/machine-learning-course.git\n",
    "https://qf27.github.io/machine-learning-course/"
   ]
  },
  {
   "cell_type": "markdown",
   "metadata": {
    "collapsed": true
   },
   "source": [
    "# Exploratory Data Analysis\n",
    "## 13\n",
    "Here you'll bring together some of the individual skills that you demonstrated above and create a Jupyter notebook based blog post on data analysis.\n",
    "\n",
    "1. Find a dataset that interests you and relates to a question or problem that you find intriguing\n",
    "2. Using a Jupyter notebook, describe the dataset, the source of the data, and the reason the dataset was of interest.\n",
    "3. Check the data and see if they need to be cleaned: are there missing values? Are there clearly erroneous values? Do two tables need to be merged together? Clean the data so it can be visualized.\n",
    "3. Plot the data, demonstrating interesting features that you discover. Are there any relationships between variables that were surprising or patterns that emerged? Please exercise creativity and curiosity in your plots.\n",
    "4. What insights are you able to take away from exploring the data? Is there a reason why analyzing the dataset you chose is particularly interesting or important? Summarize this as if your target audience was the readership of a major news organization - boil down your findings in a way that is accessible, but still accurate.\n",
    "5. Create a public repository on your github account titled \"machine-learning-course\". In it, create a readme file that contains the heading \"ECE590: Introductory Machine Learning for Data Science\". Add, commit, and push that Jupyter notebook to the master branch. Provide the link to the that post here."
   ]
  },
  {
   "cell_type": "markdown",
   "metadata": {},
   "source": [
    "**ANSWER**\n",
    "\n",
    "1.The birth rate (technically, births/population rate) is the total number of live births per 1,000 of a population in a year or period. The rate of births in a population is calculated in several ways: live births from a universal registration system for births, deaths, and marriages; population counts from a census, and estimation through specialized demographic techniques. The birth rate (along with mortality and migration rate) are used to calculate population growth.\n",
    "2.http://s3.amazonaws.com/assets.datacamp.com/course/dasi/present.txt\n",
    "This set of data is about how many girls and boys were born in USA in the past 50 years.We can see the trend of rate in the data. "
   ]
  },
  {
   "cell_type": "code",
   "execution_count": 28,
   "metadata": {},
   "outputs": [
    {
     "name": "stdout",
     "output_type": "stream",
     "text": [
      "Index(['year', 'boys', 'girls'], dtype='object')\n"
     ]
    },
    {
     "data": {
      "image/png": "[encoded data removed]",
      "text/plain": [
       "<matplotlib.figure.Figure at 0x192e2e4dd68>"
      ]
     },
     "metadata": {},
     "output_type": "display_data"
    }
   ],
   "source": [
    "#ipython --pylab\n",
    "#ipython notebook --pylab=inline\n",
    "import pandas as pd\n",
    "mydata = pd.read_csv('./data.csv')\n",
    "print(mydata.columns)\n",
    "#index([u'year',u'boys',u'girls'],dtype='object')\n",
    "mydata_year=mydata.set_index('year')\n",
    "import matplotlib.pyplot as plt\n",
    "mydata_year.boys.plot(color='g')\n",
    "mydata_year.girls.plot(color='b')\n",
    "plt.legend(loc='best')\n",
    "plt.show()"
   ]
  },
  {
   "cell_type": "markdown",
   "metadata": {},
   "source": [
    "5.As we can see, the rate of born of boys are always higher than girls. And at near 1960 the rate start to go down, and become up at 1975.\n",
    "\n",
    "6.From the plot we can predict the rate of born in USA which is really important for both government and the mass."
   ]
  },
  {
   "cell_type": "code",
   "execution_count": null,
   "metadata": {
    "collapsed": true
   },
   "outputs": [],
   "source": []
  }
 ],
 "metadata": {
  "kernelspec": {
   "display_name": "Python 3",
   "language": "python",
   "name": "python3"
  },
  "language_info": {
   "codemirror_mode": {
    "name": "ipython",
    "version": 3
   },
   "file_extension": ".py",
   "mimetype": "text/x-python",
   "name": "python",
   "nbconvert_exporter": "python",
   "pygments_lexer": "ipython3",
   "version": "3.6.3"
  }
 },
 "nbformat": 4,
 "nbformat_minor": 2
}
